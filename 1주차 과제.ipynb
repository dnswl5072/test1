{
  "nbformat": 4,
  "nbformat_minor": 0,
  "metadata": {
    "colab": {
      "name": "Untitled4.ipynb",
      "provenance": [],
      "authorship_tag": "ABX9TyMkzyI83PXfFSQYsKgAj2j7",
      "include_colab_link": true
    },
    "kernelspec": {
      "name": "python3",
      "display_name": "Python 3"
    }
  },
  "cells": [
    {
      "cell_type": "markdown",
      "metadata": {
        "id": "view-in-github",
        "colab_type": "text"
      },
      "source": [
        "<a href=\"https://colab.research.google.com/github/dnswl5072/test1/blob/master/Untitled4.ipynb\" target=\"_parent\"><img src=\"https://colab.research.google.com/assets/colab-badge.svg\" alt=\"Open In Colab\"/></a>"
      ]
    },
    {
      "cell_type": "markdown",
      "metadata": {
        "id": "N0dTUUYCzkX4",
        "colab_type": "text"
      },
      "source": [
        "# **1주차 과제**"
      ]
    },
    {
      "cell_type": "markdown",
      "metadata": {
        "id": "eN4d8nfd2g40",
        "colab_type": "text"
      },
      "source": [
        "## 1. 언어\n",
        "**번역기 혹은 번역프로그램(예: 파파고)**"
      ]
    },
    {
      "cell_type": "markdown",
      "metadata": {
        "id": "mmLoxPOszmdZ",
        "colab_type": "text"
      },
      "source": [
        "## 2. **음성**\n",
        "**네비게이션, 스마트폰 어플 및 아이폰 인공지능 시리**"
      ]
    },
    {
      "cell_type": "markdown",
      "metadata": {
        "id": "y5tP__EG37Pe",
        "colab_type": "text"
      },
      "source": [
        "## 3. 이미지\n",
        "**카메라 및 페이스북 얼굴인식**\n",
        "**지문인식 기능**"
      ]
    },
    {
      "cell_type": "markdown",
      "metadata": {
        "id": "w-alagRi2r6B",
        "colab_type": "text"
      },
      "source": [
        "##4. 자율주행\n",
        "**테슬라 자율주행 자동차, 차선 인식 및 사물인식**"
      ]
    },
    {
      "cell_type": "code",
      "metadata": {
        "id": "Te2EHw2G4l8i",
        "colab_type": "code",
        "colab": {}
      },
      "source": [
        ""
      ],
      "execution_count": null,
      "outputs": []
    }
  ]
}
